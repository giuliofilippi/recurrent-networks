{
 "cells": [
  {
   "cell_type": "markdown",
   "metadata": {},
   "source": [
    "# Imports"
   ]
  },
  {
   "cell_type": "code",
   "execution_count": 1,
   "metadata": {},
   "outputs": [],
   "source": [
    "import numpy as np\n",
    "import pandas as pd"
   ]
  },
  {
   "cell_type": "code",
   "execution_count": 2,
   "metadata": {},
   "outputs": [],
   "source": [
    "df = pd.read_csv('connections_princeton.csv')"
   ]
  },
  {
   "cell_type": "markdown",
   "metadata": {},
   "source": [
    "# Analysis"
   ]
  },
  {
   "cell_type": "code",
   "execution_count": 3,
   "metadata": {},
   "outputs": [
    {
     "data": {
      "text/html": [
       "<div>\n",
       "<style scoped>\n",
       "    .dataframe tbody tr th:only-of-type {\n",
       "        vertical-align: middle;\n",
       "    }\n",
       "\n",
       "    .dataframe tbody tr th {\n",
       "        vertical-align: top;\n",
       "    }\n",
       "\n",
       "    .dataframe thead th {\n",
       "        text-align: right;\n",
       "    }\n",
       "</style>\n",
       "<table border=\"1\" class=\"dataframe\">\n",
       "  <thead>\n",
       "    <tr style=\"text-align: right;\">\n",
       "      <th></th>\n",
       "      <th>pre_root_id</th>\n",
       "      <th>post_root_id</th>\n",
       "      <th>neuropil</th>\n",
       "      <th>syn_count</th>\n",
       "      <th>nt_type</th>\n",
       "    </tr>\n",
       "  </thead>\n",
       "  <tbody>\n",
       "    <tr>\n",
       "      <th>0</th>\n",
       "      <td>720575940625363947</td>\n",
       "      <td>720575940623224444</td>\n",
       "      <td>ME_L</td>\n",
       "      <td>12</td>\n",
       "      <td>GABA</td>\n",
       "    </tr>\n",
       "    <tr>\n",
       "      <th>1</th>\n",
       "      <td>720575940630432382</td>\n",
       "      <td>720575940618518557</td>\n",
       "      <td>ME_L</td>\n",
       "      <td>67</td>\n",
       "      <td>ACH</td>\n",
       "    </tr>\n",
       "    <tr>\n",
       "      <th>2</th>\n",
       "      <td>720575940627314521</td>\n",
       "      <td>720575940626337738</td>\n",
       "      <td>ME_L</td>\n",
       "      <td>10</td>\n",
       "      <td>GABA</td>\n",
       "    </tr>\n",
       "    <tr>\n",
       "      <th>3</th>\n",
       "      <td>720575940620280405</td>\n",
       "      <td>720575940620204726</td>\n",
       "      <td>ME_L</td>\n",
       "      <td>15</td>\n",
       "      <td>ACH</td>\n",
       "    </tr>\n",
       "    <tr>\n",
       "      <th>4</th>\n",
       "      <td>720575940636942447</td>\n",
       "      <td>720575940613789411</td>\n",
       "      <td>LA_L</td>\n",
       "      <td>1</td>\n",
       "      <td>GLUT</td>\n",
       "    </tr>\n",
       "    <tr>\n",
       "      <th>...</th>\n",
       "      <td>...</td>\n",
       "      <td>...</td>\n",
       "      <td>...</td>\n",
       "      <td>...</td>\n",
       "      <td>...</td>\n",
       "    </tr>\n",
       "    <tr>\n",
       "      <th>5342441</th>\n",
       "      <td>720575940610739918</td>\n",
       "      <td>720575940617129885</td>\n",
       "      <td>PLP_L</td>\n",
       "      <td>5</td>\n",
       "      <td>ACH</td>\n",
       "    </tr>\n",
       "    <tr>\n",
       "      <th>5342442</th>\n",
       "      <td>720575940653332385</td>\n",
       "      <td>720575940623905719</td>\n",
       "      <td>CRE_R</td>\n",
       "      <td>2</td>\n",
       "      <td>ACH</td>\n",
       "    </tr>\n",
       "    <tr>\n",
       "      <th>5342443</th>\n",
       "      <td>720575940622485887</td>\n",
       "      <td>720575940631031803</td>\n",
       "      <td>ME_R</td>\n",
       "      <td>9</td>\n",
       "      <td>ACH</td>\n",
       "    </tr>\n",
       "    <tr>\n",
       "      <th>5342444</th>\n",
       "      <td>720575940620020534</td>\n",
       "      <td>720575940636489140</td>\n",
       "      <td>SMP_L</td>\n",
       "      <td>2</td>\n",
       "      <td>ACH</td>\n",
       "    </tr>\n",
       "    <tr>\n",
       "      <th>5342445</th>\n",
       "      <td>720575940632648612</td>\n",
       "      <td>720575940626847765</td>\n",
       "      <td>GNG</td>\n",
       "      <td>19</td>\n",
       "      <td>GABA</td>\n",
       "    </tr>\n",
       "  </tbody>\n",
       "</table>\n",
       "<p>5342446 rows × 5 columns</p>\n",
       "</div>"
      ],
      "text/plain": [
       "                pre_root_id        post_root_id neuropil  syn_count nt_type\n",
       "0        720575940625363947  720575940623224444     ME_L         12    GABA\n",
       "1        720575940630432382  720575940618518557     ME_L         67     ACH\n",
       "2        720575940627314521  720575940626337738     ME_L         10    GABA\n",
       "3        720575940620280405  720575940620204726     ME_L         15     ACH\n",
       "4        720575940636942447  720575940613789411     LA_L          1    GLUT\n",
       "...                     ...                 ...      ...        ...     ...\n",
       "5342441  720575940610739918  720575940617129885    PLP_L          5     ACH\n",
       "5342442  720575940653332385  720575940623905719    CRE_R          2     ACH\n",
       "5342443  720575940622485887  720575940631031803     ME_R          9     ACH\n",
       "5342444  720575940620020534  720575940636489140    SMP_L          2     ACH\n",
       "5342445  720575940632648612  720575940626847765      GNG         19    GABA\n",
       "\n",
       "[5342446 rows x 5 columns]"
      ]
     },
     "execution_count": 3,
     "metadata": {},
     "output_type": "execute_result"
    }
   ],
   "source": [
    "df"
   ]
  },
  {
   "cell_type": "code",
   "execution_count": 4,
   "metadata": {},
   "outputs": [
    {
     "data": {
      "text/plain": [
       "array(['ME_L', 'LA_L', 'UNASGD', 'LOP_L', 'LO_L', 'AVLP_L', 'SLP_L',\n",
       "       'LH_L', 'PVLP_L', 'PLP_L', 'AOTU_L', 'AME_L', 'GNG', 'AL_R',\n",
       "       'LAL_R', 'ME_R', 'AVLP_R', 'SMP_R', 'AMMC_L', 'SMP_L', 'MB_VL_R',\n",
       "       'LO_R', 'MB_PED_R', 'VES_L', 'CRE_R', 'AMMC_R', 'SCL_R', 'LOP_R',\n",
       "       'PLP_R', 'CRE_L', 'LH_R', 'SPS_R', 'VES_R', 'PVLP_R', 'PB',\n",
       "       'ICL_L', 'ATL_L', 'PRW', 'SCL_L', 'CAN_R', 'LAL_L', 'SPS_L',\n",
       "       'IPS_L', 'WED_L', 'IPS_R', 'MB_VL_L', 'FB', 'SLP_R', 'SIP_R',\n",
       "       'AL_L', 'EPA_L', 'IB_R', 'FLA_R', 'SIP_L', 'SAD', 'WED_R', 'EB',\n",
       "       'FLA_L', 'MB_PED_L', 'BU_R', 'IB_L', 'MB_ML_L', 'MB_CA_L', 'GOR_R',\n",
       "       'LA_R', 'ICL_R', 'MB_CA_R', 'EPA_R', 'GOR_L', 'AOTU_R', 'MB_ML_R',\n",
       "       'ATL_R', 'NO', 'AME_R', 'GA_L', 'BU_L', 'OCG', 'CAN_L', 'GA_R'],\n",
       "      dtype=object)"
      ]
     },
     "execution_count": 4,
     "metadata": {},
     "output_type": "execute_result"
    }
   ],
   "source": [
    "df['neuropil'].unique()"
   ]
  },
  {
   "cell_type": "code",
   "execution_count": 12,
   "metadata": {},
   "outputs": [
    {
     "data": {
      "text/plain": [
       "array(['GABA', 'ACH', 'GLUT', 'OCT', 'SER', 'DA'], dtype=object)"
      ]
     },
     "execution_count": 12,
     "metadata": {},
     "output_type": "execute_result"
    }
   ],
   "source": [
    "df['nt_type'].unique()"
   ]
  },
  {
   "cell_type": "code",
   "execution_count": 5,
   "metadata": {},
   "outputs": [
    {
     "data": {
      "text/plain": [
       "130183"
      ]
     },
     "execution_count": 5,
     "metadata": {},
     "output_type": "execute_result"
    }
   ],
   "source": [
    "len(df['post_root_id'].unique())"
   ]
  },
  {
   "cell_type": "code",
   "execution_count": 7,
   "metadata": {},
   "outputs": [
    {
     "data": {
      "text/plain": [
       "137518"
      ]
     },
     "execution_count": 7,
     "metadata": {},
     "output_type": "execute_result"
    }
   ],
   "source": [
    "len(df['pre_root_id'].unique())"
   ]
  },
  {
   "cell_type": "markdown",
   "metadata": {},
   "source": [
    "# Cell Types"
   ]
  },
  {
   "cell_type": "code",
   "execution_count": null,
   "metadata": {},
   "outputs": [],
   "source": []
  },
  {
   "cell_type": "code",
   "execution_count": null,
   "metadata": {},
   "outputs": [],
   "source": []
  },
  {
   "cell_type": "markdown",
   "metadata": {},
   "source": [
    "# Filter"
   ]
  },
  {
   "cell_type": "code",
   "execution_count": null,
   "metadata": {},
   "outputs": [],
   "source": []
  },
  {
   "cell_type": "code",
   "execution_count": null,
   "metadata": {},
   "outputs": [],
   "source": []
  }
 ],
 "metadata": {
  "kernelspec": {
   "display_name": "recurrent-networks",
   "language": "python",
   "name": "python3"
  },
  "language_info": {
   "codemirror_mode": {
    "name": "ipython",
    "version": 3
   },
   "file_extension": ".py",
   "mimetype": "text/x-python",
   "name": "python",
   "nbconvert_exporter": "python",
   "pygments_lexer": "ipython3",
   "version": "3.10.18"
  }
 },
 "nbformat": 4,
 "nbformat_minor": 2
}

{
 "cells": [
  {
   "cell_type": "markdown",
   "metadata": {},
   "source": [
    "# Imports"
   ]
  },
  {
   "cell_type": "code",
   "execution_count": 14,
   "metadata": {},
   "outputs": [],
   "source": [
    "import numpy as np\n",
    "import pandas as pd"
   ]
  },
  {
   "cell_type": "code",
   "execution_count": 15,
   "metadata": {},
   "outputs": [
    {
     "data": {
      "text/html": [
       "<div>\n",
       "<style scoped>\n",
       "    .dataframe tbody tr th:only-of-type {\n",
       "        vertical-align: middle;\n",
       "    }\n",
       "\n",
       "    .dataframe tbody tr th {\n",
       "        vertical-align: top;\n",
       "    }\n",
       "\n",
       "    .dataframe thead th {\n",
       "        text-align: right;\n",
       "    }\n",
       "</style>\n",
       "<table border=\"1\" class=\"dataframe\">\n",
       "  <thead>\n",
       "    <tr style=\"text-align: right;\">\n",
       "      <th></th>\n",
       "      <th>bodyId</th>\n",
       "      <th>type</th>\n",
       "      <th>instance</th>\n",
       "    </tr>\n",
       "  </thead>\n",
       "  <tbody>\n",
       "    <tr>\n",
       "      <th>0</th>\n",
       "      <td>200326126</td>\n",
       "      <td>CL141</td>\n",
       "      <td>CL141_L</td>\n",
       "    </tr>\n",
       "    <tr>\n",
       "      <th>1</th>\n",
       "      <td>202916528</td>\n",
       "      <td>FS4C</td>\n",
       "      <td>FS4C(FQ12)_C4_R</td>\n",
       "    </tr>\n",
       "    <tr>\n",
       "      <th>2</th>\n",
       "      <td>203253072</td>\n",
       "      <td>FS4A</td>\n",
       "      <td>FS4A(AB)(FQ12)_C3_R</td>\n",
       "    </tr>\n",
       "    <tr>\n",
       "      <th>3</th>\n",
       "      <td>203253253</td>\n",
       "      <td>SMP505</td>\n",
       "      <td>SMP505(PDM22)_L</td>\n",
       "    </tr>\n",
       "    <tr>\n",
       "      <th>4</th>\n",
       "      <td>203257652</td>\n",
       "      <td>FS4C</td>\n",
       "      <td>FS4C(FQ12)_C6_R</td>\n",
       "    </tr>\n",
       "    <tr>\n",
       "      <th>...</th>\n",
       "      <td>...</td>\n",
       "      <td>...</td>\n",
       "      <td>...</td>\n",
       "    </tr>\n",
       "    <tr>\n",
       "      <th>21734</th>\n",
       "      <td>7112579856</td>\n",
       "      <td>LC20</td>\n",
       "      <td>LC20</td>\n",
       "    </tr>\n",
       "    <tr>\n",
       "      <th>21735</th>\n",
       "      <td>7112615127</td>\n",
       "      <td>AVLP335</td>\n",
       "      <td>AVLP335_R</td>\n",
       "    </tr>\n",
       "    <tr>\n",
       "      <th>21736</th>\n",
       "      <td>7112617294</td>\n",
       "      <td>AVLP331</td>\n",
       "      <td>AVLP331_R</td>\n",
       "    </tr>\n",
       "    <tr>\n",
       "      <th>21737</th>\n",
       "      <td>7112622044</td>\n",
       "      <td>LAL137</td>\n",
       "      <td>LAL137(PVL05)_L</td>\n",
       "    </tr>\n",
       "    <tr>\n",
       "      <th>21738</th>\n",
       "      <td>7112622236</td>\n",
       "      <td>NaN</td>\n",
       "      <td>NaN</td>\n",
       "    </tr>\n",
       "  </tbody>\n",
       "</table>\n",
       "<p>21739 rows × 3 columns</p>\n",
       "</div>"
      ],
      "text/plain": [
       "           bodyId     type             instance\n",
       "0       200326126    CL141              CL141_L\n",
       "1       202916528     FS4C      FS4C(FQ12)_C4_R\n",
       "2       203253072     FS4A  FS4A(AB)(FQ12)_C3_R\n",
       "3       203253253   SMP505      SMP505(PDM22)_L\n",
       "4       203257652     FS4C      FS4C(FQ12)_C6_R\n",
       "...           ...      ...                  ...\n",
       "21734  7112579856     LC20                 LC20\n",
       "21735  7112615127  AVLP335            AVLP335_R\n",
       "21736  7112617294  AVLP331            AVLP331_R\n",
       "21737  7112622044   LAL137      LAL137(PVL05)_L\n",
       "21738  7112622236      NaN                  NaN\n",
       "\n",
       "[21739 rows x 3 columns]"
      ]
     },
     "execution_count": 15,
     "metadata": {},
     "output_type": "execute_result"
    }
   ],
   "source": [
    "df_neurons = pd.read_csv('traced-neurons.csv')\n",
    "df_neurons"
   ]
  },
  {
   "cell_type": "code",
   "execution_count": 16,
   "metadata": {},
   "outputs": [
    {
     "data": {
      "text/html": [
       "<div>\n",
       "<style scoped>\n",
       "    .dataframe tbody tr th:only-of-type {\n",
       "        vertical-align: middle;\n",
       "    }\n",
       "\n",
       "    .dataframe tbody tr th {\n",
       "        vertical-align: top;\n",
       "    }\n",
       "\n",
       "    .dataframe thead th {\n",
       "        text-align: right;\n",
       "    }\n",
       "</style>\n",
       "<table border=\"1\" class=\"dataframe\">\n",
       "  <thead>\n",
       "    <tr style=\"text-align: right;\">\n",
       "      <th></th>\n",
       "      <th>bodyId_pre</th>\n",
       "      <th>bodyId_post</th>\n",
       "      <th>roi</th>\n",
       "      <th>weight</th>\n",
       "    </tr>\n",
       "  </thead>\n",
       "  <tbody>\n",
       "    <tr>\n",
       "      <th>0</th>\n",
       "      <td>200326126</td>\n",
       "      <td>264083994</td>\n",
       "      <td>SLP(R)</td>\n",
       "      <td>3</td>\n",
       "    </tr>\n",
       "    <tr>\n",
       "      <th>1</th>\n",
       "      <td>200326126</td>\n",
       "      <td>295816140</td>\n",
       "      <td>ICL(R)</td>\n",
       "      <td>2</td>\n",
       "    </tr>\n",
       "    <tr>\n",
       "      <th>2</th>\n",
       "      <td>200326126</td>\n",
       "      <td>295816140</td>\n",
       "      <td>SCL(R)</td>\n",
       "      <td>2</td>\n",
       "    </tr>\n",
       "    <tr>\n",
       "      <th>3</th>\n",
       "      <td>200326126</td>\n",
       "      <td>295816140</td>\n",
       "      <td>PLP(R)</td>\n",
       "      <td>1</td>\n",
       "    </tr>\n",
       "    <tr>\n",
       "      <th>4</th>\n",
       "      <td>200326126</td>\n",
       "      <td>296203440</td>\n",
       "      <td>SCL(R)</td>\n",
       "      <td>1</td>\n",
       "    </tr>\n",
       "    <tr>\n",
       "      <th>...</th>\n",
       "      <td>...</td>\n",
       "      <td>...</td>\n",
       "      <td>...</td>\n",
       "      <td>...</td>\n",
       "    </tr>\n",
       "    <tr>\n",
       "      <th>4259619</th>\n",
       "      <td>7112622236</td>\n",
       "      <td>328283521</td>\n",
       "      <td>SMP(R)</td>\n",
       "      <td>1</td>\n",
       "    </tr>\n",
       "    <tr>\n",
       "      <th>4259620</th>\n",
       "      <td>7112622236</td>\n",
       "      <td>357932060</td>\n",
       "      <td>SMP(R)</td>\n",
       "      <td>1</td>\n",
       "    </tr>\n",
       "    <tr>\n",
       "      <th>4259621</th>\n",
       "      <td>7112622236</td>\n",
       "      <td>357940977</td>\n",
       "      <td>SMP(R)</td>\n",
       "      <td>1</td>\n",
       "    </tr>\n",
       "    <tr>\n",
       "      <th>4259622</th>\n",
       "      <td>7112622236</td>\n",
       "      <td>358631450</td>\n",
       "      <td>SMP(R)</td>\n",
       "      <td>1</td>\n",
       "    </tr>\n",
       "    <tr>\n",
       "      <th>4259623</th>\n",
       "      <td>7112622236</td>\n",
       "      <td>480672667</td>\n",
       "      <td>SLP(R)</td>\n",
       "      <td>1</td>\n",
       "    </tr>\n",
       "  </tbody>\n",
       "</table>\n",
       "<p>4259624 rows × 4 columns</p>\n",
       "</div>"
      ],
      "text/plain": [
       "         bodyId_pre  bodyId_post     roi  weight\n",
       "0         200326126    264083994  SLP(R)       3\n",
       "1         200326126    295816140  ICL(R)       2\n",
       "2         200326126    295816140  SCL(R)       2\n",
       "3         200326126    295816140  PLP(R)       1\n",
       "4         200326126    296203440  SCL(R)       1\n",
       "...             ...          ...     ...     ...\n",
       "4259619  7112622236    328283521  SMP(R)       1\n",
       "4259620  7112622236    357932060  SMP(R)       1\n",
       "4259621  7112622236    357940977  SMP(R)       1\n",
       "4259622  7112622236    358631450  SMP(R)       1\n",
       "4259623  7112622236    480672667  SLP(R)       1\n",
       "\n",
       "[4259624 rows x 4 columns]"
      ]
     },
     "execution_count": 16,
     "metadata": {},
     "output_type": "execute_result"
    }
   ],
   "source": [
    "df_roi_connections = pd.read_csv('traced-roi-connections.csv')\n",
    "df_roi_connections"
   ]
  },
  {
   "cell_type": "code",
   "execution_count": 17,
   "metadata": {},
   "outputs": [
    {
     "data": {
      "text/html": [
       "<div>\n",
       "<style scoped>\n",
       "    .dataframe tbody tr th:only-of-type {\n",
       "        vertical-align: middle;\n",
       "    }\n",
       "\n",
       "    .dataframe tbody tr th {\n",
       "        vertical-align: top;\n",
       "    }\n",
       "\n",
       "    .dataframe thead th {\n",
       "        text-align: right;\n",
       "    }\n",
       "</style>\n",
       "<table border=\"1\" class=\"dataframe\">\n",
       "  <thead>\n",
       "    <tr style=\"text-align: right;\">\n",
       "      <th></th>\n",
       "      <th>bodyId_pre</th>\n",
       "      <th>bodyId_post</th>\n",
       "      <th>weight</th>\n",
       "    </tr>\n",
       "  </thead>\n",
       "  <tbody>\n",
       "    <tr>\n",
       "      <th>0</th>\n",
       "      <td>294437328</td>\n",
       "      <td>295470623</td>\n",
       "      <td>1</td>\n",
       "    </tr>\n",
       "    <tr>\n",
       "      <th>1</th>\n",
       "      <td>294437328</td>\n",
       "      <td>295133902</td>\n",
       "      <td>1</td>\n",
       "    </tr>\n",
       "    <tr>\n",
       "      <th>2</th>\n",
       "      <td>294437328</td>\n",
       "      <td>448260940</td>\n",
       "      <td>1</td>\n",
       "    </tr>\n",
       "    <tr>\n",
       "      <th>3</th>\n",
       "      <td>294437328</td>\n",
       "      <td>294783423</td>\n",
       "      <td>1</td>\n",
       "    </tr>\n",
       "    <tr>\n",
       "      <th>4</th>\n",
       "      <td>294437328</td>\n",
       "      <td>5812979995</td>\n",
       "      <td>1</td>\n",
       "    </tr>\n",
       "    <tr>\n",
       "      <th>...</th>\n",
       "      <td>...</td>\n",
       "      <td>...</td>\n",
       "      <td>...</td>\n",
       "    </tr>\n",
       "    <tr>\n",
       "      <th>3550398</th>\n",
       "      <td>5901222127</td>\n",
       "      <td>546307807</td>\n",
       "      <td>1</td>\n",
       "    </tr>\n",
       "    <tr>\n",
       "      <th>3550399</th>\n",
       "      <td>5901222127</td>\n",
       "      <td>577697202</td>\n",
       "      <td>1</td>\n",
       "    </tr>\n",
       "    <tr>\n",
       "      <th>3550400</th>\n",
       "      <td>5901222127</td>\n",
       "      <td>393210919</td>\n",
       "      <td>1</td>\n",
       "    </tr>\n",
       "    <tr>\n",
       "      <th>3550401</th>\n",
       "      <td>5901222127</td>\n",
       "      <td>330640044</td>\n",
       "      <td>5</td>\n",
       "    </tr>\n",
       "    <tr>\n",
       "      <th>3550402</th>\n",
       "      <td>5901222127</td>\n",
       "      <td>516875221</td>\n",
       "      <td>3</td>\n",
       "    </tr>\n",
       "  </tbody>\n",
       "</table>\n",
       "<p>3550403 rows × 3 columns</p>\n",
       "</div>"
      ],
      "text/plain": [
       "         bodyId_pre  bodyId_post  weight\n",
       "0         294437328    295470623       1\n",
       "1         294437328    295133902       1\n",
       "2         294437328    448260940       1\n",
       "3         294437328    294783423       1\n",
       "4         294437328   5812979995       1\n",
       "...             ...          ...     ...\n",
       "3550398  5901222127    546307807       1\n",
       "3550399  5901222127    577697202       1\n",
       "3550400  5901222127    393210919       1\n",
       "3550401  5901222127    330640044       5\n",
       "3550402  5901222127    516875221       3\n",
       "\n",
       "[3550403 rows x 3 columns]"
      ]
     },
     "execution_count": 17,
     "metadata": {},
     "output_type": "execute_result"
    }
   ],
   "source": [
    "df_connections = pd.read_csv('traced-total-connections.csv')\n",
    "df_connections"
   ]
  },
  {
   "cell_type": "markdown",
   "metadata": {},
   "source": [
    "# Analysis"
   ]
  },
  {
   "cell_type": "code",
   "execution_count": 18,
   "metadata": {},
   "outputs": [
    {
     "data": {
      "text/plain": [
       "21739"
      ]
     },
     "execution_count": 18,
     "metadata": {},
     "output_type": "execute_result"
    }
   ],
   "source": [
    "len(df_neurons)"
   ]
  },
  {
   "cell_type": "code",
   "execution_count": 19,
   "metadata": {},
   "outputs": [
    {
     "data": {
      "text/plain": [
       "array(['SLP(R)', 'ICL(R)', 'SCL(R)', 'PLP(R)', 'AVLP(R)', 'LH(R)',\n",
       "       'SMP(L)', 'FB', 'AB(R)', 'SMP(R)', 'SIP(R)', 'SIP(L)', 'SCL(L)',\n",
       "       'NotPrimary', 'SPS(L)', 'IPS(R)', 'SPS(R)', 'BU(L)', 'CRE(L)',\n",
       "       'IB', 'AME(R)', 'CA(R)', 'FLA(R)', 'CRE(R)', 'EPA(R)', 'bL(R)',\n",
       "       \"b'L(R)\", 'bL(L)', 'PED(R)', 'aL(R)', 'gL(R)', \"b'L(L)\", 'gL(L)',\n",
       "       'ICL(L)', 'AB(L)', 'AL(R)', 'ATL(L)', 'LAL(R)', 'EB', 'PVLP(R)',\n",
       "       'ATL(R)', 'AOTU(R)', \"a'L(R)\", 'LO(R)', 'VES(R)', 'aL(L)',\n",
       "       'GOR(R)', 'WED(R)', 'LAL(L)', 'NO', 'PB', 'SAD', 'BU(R)', \"a'L(L)\",\n",
       "       'GOR(L)', 'GNG', 'CAN(R)', 'VES(L)', 'EPA(L)', 'AL(L)', 'ME(R)',\n",
       "       'LOP(R)'], dtype=object)"
      ]
     },
     "execution_count": 19,
     "metadata": {},
     "output_type": "execute_result"
    }
   ],
   "source": [
    "df_roi_connections['roi'].unique()"
   ]
  },
  {
   "cell_type": "code",
   "execution_count": 20,
   "metadata": {},
   "outputs": [
    {
     "data": {
      "text/plain": [
       "array(['CL141', 'FS4C', 'FS4A', ..., 'aMe6b', 'AVLP534', 'SLP169'],\n",
       "      shape=(5555,), dtype=object)"
      ]
     },
     "execution_count": 20,
     "metadata": {},
     "output_type": "execute_result"
    }
   ],
   "source": [
    "df_neurons['type'].unique()"
   ]
  },
  {
   "cell_type": "code",
   "execution_count": 24,
   "metadata": {},
   "outputs": [
    {
     "data": {
      "text/plain": [
       "['KCab-m',\n",
       " 'KCab-c',\n",
       " 'KCab-s',\n",
       " 'KCg-m',\n",
       " 'KCab-p',\n",
       " \"KCa'b'-ap2\",\n",
       " \"KCa'b'-m\",\n",
       " \"KCa'b'-ap1\",\n",
       " 'KCg-d',\n",
       " 'KCg-t',\n",
       " 'KCg-s4',\n",
       " 'KCg-s1',\n",
       " 'KCg-s3',\n",
       " 'KCg-s2']"
      ]
     },
     "execution_count": 24,
     "metadata": {},
     "output_type": "execute_result"
    }
   ],
   "source": [
    "l = [x for x in df_neurons['type'].unique() if 'KC' in str(x)]\n",
    "l"
   ]
  },
  {
   "cell_type": "code",
   "execution_count": 25,
   "metadata": {},
   "outputs": [],
   "source": [
    "KC_types = ['KCab-m',\n",
    " 'KCab-c',\n",
    " 'KCab-s',\n",
    " 'KCg-m',\n",
    " 'KCab-p',\n",
    " \"KCa'b'-ap2\",\n",
    " \"KCa'b'-m\",\n",
    " \"KCa'b'-ap1\",\n",
    " 'KCg-d',\n",
    " 'KCg-t',\n",
    " 'KCg-s4',\n",
    " 'KCg-s1',\n",
    " 'KCg-s3',\n",
    " 'KCg-s2']"
   ]
  },
  {
   "cell_type": "code",
   "execution_count": 26,
   "metadata": {},
   "outputs": [
    {
     "data": {
      "text/plain": [
       "['APL']"
      ]
     },
     "execution_count": 26,
     "metadata": {},
     "output_type": "execute_result"
    }
   ],
   "source": [
    "l = [x for x in df_neurons['type'].unique() if 'APL' in str(x)]\n",
    "l"
   ]
  },
  {
   "cell_type": "code",
   "execution_count": null,
   "metadata": {},
   "outputs": [],
   "source": [
    "APL_type = ['APL']"
   ]
  }
 ],
 "metadata": {
  "kernelspec": {
   "display_name": "recurrent-networks",
   "language": "python",
   "name": "python3"
  },
  "language_info": {
   "codemirror_mode": {
    "name": "ipython",
    "version": 3
   },
   "file_extension": ".py",
   "mimetype": "text/x-python",
   "name": "python",
   "nbconvert_exporter": "python",
   "pygments_lexer": "ipython3",
   "version": "3.10.18"
  }
 },
 "nbformat": 4,
 "nbformat_minor": 2
}
